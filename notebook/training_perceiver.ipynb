{
 "cells": [
  {
   "cell_type": "code",
   "execution_count": 1,
   "id": "1345f125",
   "metadata": {},
   "outputs": [],
   "source": [
    "import numpy as np\n",
    "import torch\n",
    "from torchvision import transforms as T\n",
    "from torch.utils.data import DataLoader\n",
    "from torch.utils.data import sampler\n",
    "import torch.optim as optim\n",
    "from nltk.translate.bleu_score import corpus_bleu\n",
    "import matplotlib.pyplot as plt"
   ]
  },
  {
   "cell_type": "code",
   "execution_count": 2,
   "id": "95fe3bd1",
   "metadata": {},
   "outputs": [],
   "source": [
    "import os, sys\n",
    "sys.path.append(os.path.dirname(sys.path[0]))"
   ]
  },
  {
   "cell_type": "code",
   "execution_count": 3,
   "id": "dc56d31e",
   "metadata": {},
   "outputs": [],
   "source": [
    "from model.encoder_perceiver import EncoderPerceiver\n",
    "from model.encoder_cnn import EncoderResNet\n",
    "from model.decoder import CaptioningTransformer\n",
    "from utils.flickr8k_util import FlickrDataset, CapsCollate\n",
    "from model.utils import show_image\n",
    "from experiment.solver import CaptioningSolver"
   ]
  },
  {
   "cell_type": "code",
   "execution_count": 4,
   "id": "121a7e03",
   "metadata": {},
   "outputs": [
    {
     "data": {
      "text/plain": [
       "device(type='cuda')"
      ]
     },
     "execution_count": 4,
     "metadata": {},
     "output_type": "execute_result"
    }
   ],
   "source": [
    "device = torch.device(\"cuda\" if torch.cuda.is_available() else \"cpu\")\n",
    "device"
   ]
  },
  {
   "cell_type": "code",
   "execution_count": 5,
   "id": "2feccc2b",
   "metadata": {},
   "outputs": [],
   "source": [
    "# load data\n",
    "transform = T.Compose([\n",
    "                T.Resize((224, 224)),\n",
    "                T.ToTensor(),\n",
    "                T.Normalize((0.485, 0.456, 0.406), (0.229, 0.224, 0.225)) # for flickr8k\n",
    "            ])"
   ]
  },
  {
   "cell_type": "code",
   "execution_count": 6,
   "id": "36a54b68",
   "metadata": {},
   "outputs": [],
   "source": [
    "base_dir = os.getcwd()[:-len(\"/notebook\")]\n",
    "data_location = base_dir + \"/data/Flickr8k\""
   ]
  },
  {
   "cell_type": "code",
   "execution_count": 7,
   "id": "5e3a8c30",
   "metadata": {},
   "outputs": [
    {
     "name": "stdout",
     "output_type": "stream",
     "text": [
      "building vocab\n",
      "buidling caption alias\n"
     ]
    }
   ],
   "source": [
    "dataset =  FlickrDataset(\n",
    "    root_dir = data_location + \"/Images\",\n",
    "    caption_file = data_location + \"/captions.txt\",\n",
    "    transform = transform,\n",
    "    verbose = True )"
   ]
  },
  {
   "cell_type": "code",
   "execution_count": 8,
   "id": "e7201a02",
   "metadata": {},
   "outputs": [],
   "source": [
    "caption_per_image = 5\n",
    "num_data = len(dataset)\n",
    "num_figures = num_data/caption_per_image\n",
    "test_split = 0.2\n",
    "val_split = 0.2\n",
    "train_idx = int((1 - test_split - val_split) * num_figures)\n",
    "train_abs_idx = train_idx * caption_per_image\n",
    "val_idx = train_idx + int(val_split * num_figures)\n",
    "val_abs_idx = val_idx * caption_per_image"
   ]
  },
  {
   "cell_type": "code",
   "execution_count": 9,
   "id": "ff8d812e",
   "metadata": {},
   "outputs": [],
   "source": [
    "train_indices = range(train_abs_idx)\n",
    "val_indices = range(train_abs_idx, val_abs_idx)\n",
    "test_indices = range(val_abs_idx, num_data)"
   ]
  },
  {
   "cell_type": "code",
   "execution_count": 10,
   "id": "46890c08",
   "metadata": {},
   "outputs": [],
   "source": [
    "# writing the dataloader\n",
    "# setting the constants\n",
    "BATCH_SIZE = 32\n",
    "NUM_WORKER = 2\n",
    "\n",
    "# token to represent the padding\n",
    "pad_idx = dataset.vocab.stoi[\"<NULL>\"]\n",
    "\n",
    "loader_train = DataLoader(\n",
    "    dataset=dataset,\n",
    "    batch_size=BATCH_SIZE,\n",
    "    num_workers=NUM_WORKER,\n",
    "    sampler = sampler.SubsetRandomSampler(train_indices),\n",
    "    collate_fn=CapsCollate(pad_idx=pad_idx,batch_first=True)\n",
    ")\n",
    "\n",
    "loader_val = DataLoader(\n",
    "    dataset=dataset,\n",
    "    batch_size=BATCH_SIZE,\n",
    "    num_workers=NUM_WORKER,\n",
    "    sampler = sampler.SubsetRandomSampler(val_indices),\n",
    "    collate_fn=CapsCollate(pad_idx=pad_idx,batch_first=True)\n",
    ")\n",
    "\n",
    "loader_test = DataLoader(\n",
    "    dataset=dataset,\n",
    "    batch_size=BATCH_SIZE,\n",
    "    num_workers=NUM_WORKER,\n",
    "    sampler = sampler.SubsetRandomSampler(test_indices),\n",
    "    collate_fn=CapsCollate(pad_idx=pad_idx,batch_first=True)\n",
    ")"
   ]
  },
  {
   "cell_type": "code",
   "execution_count": 11,
   "id": "7f4be32e",
   "metadata": {},
   "outputs": [],
   "source": [
    "# create models\n",
    "input_dim = 224 * 224\n",
    "input_channels = 3\n",
    "feature_dim = 512\n",
    "word_emb_dim = 256\n",
    "encoder = EncoderPerceiver(input_dim, input_channels = input_channels, \n",
    "                             num_iterations = 2, num_transformer_blocks = 4,\n",
    "                             num_latents=32, latent_dim = feature_dim, \n",
    "                             cross_heads=4, cross_dim_head=16, \n",
    "                             latent_heads=4, latent_dim_head=16,\n",
    "                             attn_dropout=0.5, ff_dropout=0.5)\n",
    "decoder = CaptioningTransformer(dataset.vocab.stoi, input_dim=feature_dim, \n",
    "                                  wordvec_dim = word_emb_dim, max_length=50)"
   ]
  },
  {
   "cell_type": "code",
   "execution_count": 12,
   "id": "bf60023a",
   "metadata": {},
   "outputs": [],
   "source": [
    "encoder_optimizer = optim.Adam(encoder.parameters(), 1e-3)\n",
    "decoder_optimizer = optim.Adam(decoder.parameters(), 2e-3)"
   ]
  },
  {
   "cell_type": "code",
   "execution_count": 13,
   "id": "959ecf0b",
   "metadata": {},
   "outputs": [],
   "source": [
    "solver = CaptioningSolver(encoder, decoder, \n",
    "                          encoder_optimizer, decoder_optimizer,\n",
    "                          dataset.vocab.itos, dataset.caption_alias, \n",
    "                          device = device, print_every = 100)"
   ]
  },
  {
   "cell_type": "code",
   "execution_count": 14,
   "id": "a1120e00",
   "metadata": {},
   "outputs": [
    {
     "name": "stdout",
     "output_type": "stream",
     "text": [
      "begin training epoch 1 of 2 epochs\n",
      "training batch 0 of 1517 batches\n",
      "training batch 100 of 1517 batches\n",
      "training batch 200 of 1517 batches\n",
      "training batch 300 of 1517 batches\n",
      "training batch 400 of 1517 batches\n",
      "training batch 500 of 1517 batches\n",
      "training batch 600 of 1517 batches\n",
      "training batch 700 of 1517 batches\n",
      "training batch 800 of 1517 batches\n",
      "training batch 900 of 1517 batches\n",
      "training batch 1000 of 1517 batches\n",
      "training batch 1100 of 1517 batches\n",
      "training batch 1200 of 1517 batches\n",
      "training batch 1300 of 1517 batches\n",
      "training batch 1400 of 1517 batches\n",
      "training batch 1500 of 1517 batches\n",
      "finish training epoch 1 of 2 epochs\n",
      "begin validation epoch 1 of 2 epochs\n",
      "computing BLEU score on validation\n",
      "finish validation epoch 1 of 2 epochs\n",
      "begin training epoch 2 of 2 epochs\n",
      "training batch 83 of 1517 batches\n",
      "training batch 183 of 1517 batches\n",
      "training batch 283 of 1517 batches\n",
      "training batch 383 of 1517 batches\n",
      "training batch 483 of 1517 batches\n",
      "training batch 583 of 1517 batches\n",
      "training batch 683 of 1517 batches\n",
      "training batch 783 of 1517 batches\n",
      "training batch 883 of 1517 batches\n",
      "training batch 983 of 1517 batches\n",
      "training batch 1083 of 1517 batches\n",
      "training batch 1183 of 1517 batches\n",
      "training batch 1283 of 1517 batches\n",
      "training batch 1383 of 1517 batches\n",
      "training batch 1483 of 1517 batches\n",
      "finish training epoch 2 of 2 epochs\n",
      "begin validation epoch 2 of 2 epochs\n",
      "computing BLEU score on validation\n",
      "finish validation epoch 2 of 2 epochs\n"
     ]
    }
   ],
   "source": [
    "solver.train(loader_train, loader_val, num_epochs=2)"
   ]
  },
  {
   "cell_type": "code",
   "execution_count": 19,
   "id": "48b559aa",
   "metadata": {},
   "outputs": [
    {
     "data": {
      "image/png": "[encoded data removed]",
      "text/plain": [
       "<Figure size 432x288 with 1 Axes>"
      ]
     },
     "metadata": {
      "needs_background": "light"
     },
     "output_type": "display_data"
    }
   ],
   "source": [
    "# visualize training\n",
    "model_name = \"baseline\"\n",
    "plt.plot(solver.train_loss_history)\n",
    "plt.xlabel(\"iterations\")\n",
    "plt.ylabel(\"loss\")\n",
    "plt.grid()\n",
    "plt.title(\"Loss history during training on train set\")\n",
    "plt.savefig(base_dir + \"/results/{}_train_loss.png\".format(model_name), dpi=300, bbox_inches=\"tight\")\n",
    "plt.show()\n",
    "\n",
    "plt.plot(solver.val_loss_history)\n",
    "plt.xlabel(\"iterations\")\n",
    "plt.ylabel(\"loss\")\n",
    "plt.grid()\n",
    "plt.title(\"Loss history during training on validation set\")\n",
    "plt.savefig(base_dir + \"/results/{}_val_loss.png\".format(model_name), dpi=300, bbox_inches=\"tight\")\n",
    "plt.show()\n",
    "\n",
    "plt.plot(solver.train_bleu)\n",
    "plt.xlabel(\"epoch\")\n",
    "plt.ylabel(\"BLEU-4 score\")\n",
    "plt.grid()\n",
    "plt.title(\"BLEU-4 score during training on training set\")\n",
    "plt.savefig(base_dir + \"/results/{}_train_BLEU.png\".format(model_name), dpi=300, bbox_inches=\"tight\")\n",
    "plt.show()\n",
    "\n",
    "plt.plot(solver.val_bleu)\n",
    "plt.xlabel(\"epoch\")\n",
    "plt.ylabel(\"BLEU-4 score\")\n",
    "plt.grid()\n",
    "plt.title(\"BLEU-4 score during training on training set\")\n",
    "plt.savefig(base_dir + \"/results/{}_val_BLEU.png\".format(model_name), dpi=300, bbox_inches=\"tight\")\n",
    "plt.show()\n",
    "\n",
    "print(\"maximum BLEU-4 score on validation: \", np.max(solver.val_bleu))"
   ]
  },
  {
   "cell_type": "code",
   "execution_count": null,
   "id": "33ba1a84",
   "metadata": {},
   "outputs": [],
   "source": [
    "# inference\n",
    "\n",
    "def inference(split_name, loader, filename=None):\n",
    "\n",
    "    imgs, captions = next(iter(loader_train))\n",
    "    img = imgs[0] # pick first image from the batch\n",
    "    caption_vec = captions[0]\n",
    "    ground_truth = decode_captions(caption_vec.detach().cpu().numpy(), dataset.vocab.itos)\n",
    "    ground_truth = strip_start_end(ground_truth)\n",
    "    feature = encoder(img.to(device=device, dtype=torch.float32).reshape(1, 3, 224, 224))\n",
    "    caption_vec_pred = decoder.sample(feature, max_length=50, device=device)\n",
    "    predict = decode_captions(caption_vec_pred, dataset.vocab.itos)[0]\n",
    "    predict = strip_start_end(predict)\n",
    "\n",
    "    title = \"Split:{}\\nGT:{}\\nPredict:{}\".format(split_name, ground_truth, predict)\n",
    "\n",
    "    inp = img.numpy().transpose((1, 2, 0))\n",
    "    plt.imshow(inp)\n",
    "    plt.axis(\"off\")\n",
    "    plt.title(title)\n",
    "    plt.savefig(base_dir+\"/results/\"+filename)\n",
    "    plt.show()"
   ]
  },
  {
   "cell_type": "code",
   "execution_count": null,
   "id": "941920b3",
   "metadata": {},
   "outputs": [],
   "source": [
    "# sample 5 images from train and val\n",
    "for idx in range(5):\n",
    "    split_name = \"train\"\n",
    "    inference(split_name, loader_train, \"inf_{}_{}.png\".format(split_name, idx))\n",
    "    \n",
    "for idx in range(5):\n",
    "    split_name = \"val\"\n",
    "    inference(split_name, loader_val, \"inf_{}_{}.png\".format(split_name, idx))"
   ]
  },
  {
   "cell_type": "code",
   "execution_count": null,
   "id": "a7eb46c7",
   "metadata": {},
   "outputs": [],
   "source": [
    "# run on test, only run once!\n",
    "solver._val_step(loader_test)\n",
    "bleu_test = solver.val_bleu[-1]\n",
    "print(\"BLEU-4 Score on test set: \", bleu_test)"
   ]
  }
 ],
 "metadata": {
  "kernelspec": {
   "display_name": "Python 3",
   "language": "python",
   "name": "python3"
  },
  "language_info": {
   "codemirror_mode": {
    "name": "ipython",
    "version": 3
   },
   "file_extension": ".py",
   "mimetype": "text/x-python",
   "name": "python",
   "nbconvert_exporter": "python",
   "pygments_lexer": "ipython3",
   "version": "3.7.10"
  }
 },
 "nbformat": 4,
 "nbformat_minor": 5
}
